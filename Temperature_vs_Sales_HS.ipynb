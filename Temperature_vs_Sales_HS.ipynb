{
  "nbformat": 4,
  "nbformat_minor": 0,
  "metadata": {
    "colab": {
      "provenance": [],
      "authorship_tag": "ABX9TyP3GapCdnf+s9cU7x2iWEaV",
      "include_colab_link": true
    },
    "kernelspec": {
      "name": "python3",
      "display_name": "Python 3"
    },
    "language_info": {
      "name": "python"
    }
  },
  "cells": [
    {
      "cell_type": "markdown",
      "metadata": {
        "id": "view-in-github",
        "colab_type": "text"
      },
      "source": [
        "<a href=\"https://colab.research.google.com/github/patagypsy/Data_Analytics_Projects/blob/main/Temperature_vs_Sales_HS.ipynb\" target=\"_parent\"><img src=\"https://colab.research.google.com/assets/colab-badge.svg\" alt=\"Open In Colab\"/></a>"
      ]
    },
    {
      "cell_type": "markdown",
      "source": [
        "The idea is to proof that weather is an indicator for higher or lower sales."
      ],
      "metadata": {
        "id": "Ak4XVcFGL8Ei"
      }
    },
    {
      "cell_type": "code",
      "source": [
        "pip install meteostat"
      ],
      "metadata": {
        "colab": {
          "base_uri": "https://localhost:8080/"
        },
        "id": "exurzwgEiL5O",
        "outputId": "b653fc4a-14f0-4361-fecc-bf494809abd4"
      },
      "execution_count": 89,
      "outputs": [
        {
          "output_type": "stream",
          "name": "stdout",
          "text": [
            "Requirement already satisfied: meteostat in /usr/local/lib/python3.11/dist-packages (1.7.4)\n",
            "Requirement already satisfied: pandas>=2 in /usr/local/lib/python3.11/dist-packages (from meteostat) (2.2.2)\n",
            "Requirement already satisfied: pytz in /usr/local/lib/python3.11/dist-packages (from meteostat) (2025.2)\n",
            "Requirement already satisfied: numpy in /usr/local/lib/python3.11/dist-packages (from meteostat) (2.0.2)\n",
            "Requirement already satisfied: python-dateutil>=2.8.2 in /usr/local/lib/python3.11/dist-packages (from pandas>=2->meteostat) (2.9.0.post0)\n",
            "Requirement already satisfied: tzdata>=2022.7 in /usr/local/lib/python3.11/dist-packages (from pandas>=2->meteostat) (2025.2)\n",
            "Requirement already satisfied: six>=1.5 in /usr/local/lib/python3.11/dist-packages (from python-dateutil>=2.8.2->pandas>=2->meteostat) (1.17.0)\n"
          ]
        }
      ]
    },
    {
      "cell_type": "markdown",
      "source": [
        "\n",
        "\n",
        "Get historical weather-data from meteostat (top countries)\n",
        "checking for rain and temperature and getting avg. temp. by country for later anlysis\n"
      ],
      "metadata": {
        "id": "Ud9Q_NclMJVc"
      }
    },
    {
      "cell_type": "code",
      "source": [
        "from google.colab import auth\n",
        "auth.authenticate_user()\n",
        "from pandas_gbq import read_gbq\n",
        "import pandas as pd\n",
        "from datetime import datetime\n",
        "from meteostat import Daily, Point\n",
        "import matplotlib.pyplot as plt\n",
        "import seaborn as sns\n",
        "import requests\n",
        "\n",
        "top_countries = [\n",
        "    {\"country\": \"Germany\",     \"code\": \"DE\", \"lat\": 52.5200, \"lon\": 13.4050},   # Berlin\n",
        "    {\"country\": \"Sweden\",      \"code\": \"SE\", \"lat\": 59.3293, \"lon\": 18.0686},   # Stockholm\n",
        "    {\"country\": \"Denmark\",     \"code\": \"DK\", \"lat\": 55.6761, \"lon\": 12.5683},   # Copenhagen\n",
        "    {\"country\": \"Netherlands\", \"code\": \"NL\", \"lat\": 52.3676, \"lon\": 4.9041},    # Amsterdam\n",
        "    {\"country\": \"France\",      \"code\": \"FR\", \"lat\": 48.8566, \"lon\": 2.3522},    # Paris\n",
        "    {\"country\": \"Austria\",     \"code\": \"AT\", \"lat\": 48.2082, \"lon\": 16.3738},   # Vienna\n",
        "    {\"country\": \"Switzerland\", \"code\": \"CH\", \"lat\": 46.9481, \"lon\": 7.4474},    # Bern\n",
        "    {\"country\": \"Finland\",     \"code\": \"FI\", \"lat\": 60.1695, \"lon\": 24.9354},   # Helsinki\n",
        "    {\"country\": \"Poland\",      \"code\": \"PL\", \"lat\": 52.2297, \"lon\": 21.0122},   # Warsaw\n",
        "    {\"country\": \"Italy\",       \"code\": \"IT\", \"lat\": 41.9028, \"lon\": 12.4964},   # Rome\n",
        "    {\"country\": \"Portugal\",    \"code\": \"PT\", \"lat\": 38.7169, \"lon\": -9.1399},   # Lisbon\n",
        "    {\"country\": \"Spain\",       \"code\": \"ES\", \"lat\": 40.4168, \"lon\": -3.7038},   # Madrid\n",
        "    {\"country\": \"United Kingdom\", \"code\": \"UK\", \"lat\": 51.5072, \"lon\": -0.1276}, # London\n",
        "    {\"country\": \"Ireland\",     \"code\": \"IE\", \"lat\": 53.3498, \"lon\": -6.2603},   # Dublin\n",
        "]\n",
        "\n",
        "start = datetime(2024, 1, 1)\n",
        "end = datetime(2024, 12, 31)\n",
        "\n",
        "weather_data = []\n",
        "\n",
        "for c in top_countries:\n",
        "    location = Point(c[\"lat\"], c[\"lon\"])\n",
        "    data = Daily(location, start, end).fetch()\n",
        "    data = data.reset_index()\n",
        "    data['country'] = c['country']\n",
        "    data['code'] = c['code']\n",
        "    weather_data.append(data[['time', 'tavg', 'prcp', 'pres', 'country', 'code']])\n",
        "\n",
        "df_weather = pd.concat(weather_data, ignore_index=True)\n",
        "\n",
        "print(df_weather.tail())\n",
        "\n",
        "avg_temp_top_countries = df_weather.groupby(['country'])['tavg'].mean().sort_values().round(2)\n"
      ],
      "metadata": {
        "colab": {
          "base_uri": "https://localhost:8080/"
        },
        "id": "ycydJZ0gmJm0",
        "outputId": "b4790c0d-be8c-475e-d2c2-f3ea6f31ec94"
      },
      "execution_count": 90,
      "outputs": [
        {
          "output_type": "stream",
          "name": "stdout",
          "text": [
            "           time  tavg  prcp    pres  country code\n",
            "5119 2024-12-27   8.3   0.0  1031.2  Ireland   IE\n",
            "5120 2024-12-28   8.9   0.1  1028.0  Ireland   IE\n",
            "5121 2024-12-29   8.7   0.0  1027.0  Ireland   IE\n",
            "5122 2024-12-30   8.9   1.2  1021.2  Ireland   IE\n",
            "5123 2024-12-31   9.6  19.7  1008.2  Ireland   IE\n"
          ]
        }
      ]
    },
    {
      "cell_type": "markdown",
      "source": [
        "querry order-value by country from BigQ.\n"
      ],
      "metadata": {
        "id": "9Q9ySIthMkXo"
      }
    },
    {
      "cell_type": "code",
      "source": [
        "project_id = \"hatstore-fatpipe\"\n",
        "\n",
        "query = \"\"\"\n",
        "SELECT order_reference,created_date, total_incvat_sek,site AS country\n",
        "FROM `hatstore-fatpipe.ecom.fatpipe_orders`\n",
        "WHERE DATE(created_date) BETWEEN '2024-01-01' AND '2024-12-31'\n",
        "AND\n",
        "site IN (\n",
        "    'HSDE',\n",
        "    'HSDK',\n",
        "    'HSNL',\n",
        "    'HSSE',\n",
        "    'HSFR',\n",
        "    'HSAT',\n",
        "    'HSCH',\n",
        "    'HSFI',\n",
        "    'HSPL',\n",
        "    'HSIT',\n",
        "    'HSPT',\n",
        "    'HSES',\n",
        "    'HSUK',\n",
        "    'HSIE')\n",
        "AND\n",
        "order_status = 'Payed'\n",
        "\"\"\"\n",
        "\n",
        "df_orders = read_gbq(query, project_id=project_id)\n",
        "df_orders['created_date'] = pd.to_datetime(df_orders['created_date'])"
      ],
      "metadata": {
        "colab": {
          "base_uri": "https://localhost:8080/"
        },
        "id": "B06x8PPIqYod",
        "outputId": "b7d9b4c5-5cb6-4699-a305-54f96b70b854"
      },
      "execution_count": 91,
      "outputs": [
        {
          "output_type": "stream",
          "name": "stdout",
          "text": [
            "Downloading: 100%|\u001b[32m██████████\u001b[0m|\n"
          ]
        }
      ]
    },
    {
      "cell_type": "code",
      "source": [
        "#print(df_orders.head())"
      ],
      "metadata": {
        "id": "F-YUdwINEJVk"
      },
      "execution_count": 92,
      "outputs": []
    },
    {
      "cell_type": "code",
      "source": [
        "df_orders_unique = df_orders.drop_duplicates(subset=['order_reference'])\n",
        "#print(df_orders_unique.tail())"
      ],
      "metadata": {
        "id": "aI_K46jgExXc"
      },
      "execution_count": 93,
      "outputs": []
    },
    {
      "cell_type": "code",
      "source": [
        "'''print(df_orders['created_date'].dtype)\n",
        "print(df_weather['time'].dtype)\n",
        "df_weather.index = pd.to_datetime(df_weather.index)'''"
      ],
      "metadata": {
        "colab": {
          "base_uri": "https://localhost:8080/",
          "height": 35
        },
        "id": "y1QTrO8ZCbV8",
        "outputId": "b2f1c8f0-a59f-4504-8e50-31f5700e602b"
      },
      "execution_count": 94,
      "outputs": [
        {
          "output_type": "execute_result",
          "data": {
            "text/plain": [
              "\"print(df_orders['created_date'].dtype)\\nprint(df_weather['time'].dtype)\\ndf_weather.index = pd.to_datetime(df_weather.index)\""
            ],
            "application/vnd.google.colaboratory.intrinsic+json": {
              "type": "string"
            }
          },
          "metadata": {},
          "execution_count": 94
        }
      ]
    },
    {
      "cell_type": "code",
      "source": [
        "df_orders['country'] = df_orders['country'].str.replace(r'^HS', '', regex=True)\n",
        "\n",
        "\n",
        "df = df_orders.merge(\n",
        "    df_weather,\n",
        "    left_on=['created_date', 'country'],\n",
        "    right_on=['time', 'code']\n",
        ")\n",
        "#print(df.tail())\n"
      ],
      "metadata": {
        "id": "7Hp6SSh6uZC6"
      },
      "execution_count": 95,
      "outputs": []
    },
    {
      "cell_type": "markdown",
      "source": [
        "Checking Country bei where higher order-value. If rain or not? Rain is defined by > 1 mm and avg. yearly rain\n",
        "\n"
      ],
      "metadata": {
        "id": "HxwmizWtSth1"
      }
    },
    {
      "cell_type": "code",
      "source": [
        "avg_rain_top_countries = df_weather.groupby(['country'])['prcp'].mean().sort_values().round(2)\n",
        "print(avg_rain_top_countries)"
      ],
      "metadata": {
        "colab": {
          "base_uri": "https://localhost:8080/"
        },
        "id": "JvYANRI3TFIb",
        "outputId": "62770a8b-461b-402c-b813-cdcd708a190f"
      },
      "execution_count": 96,
      "outputs": [
        {
          "output_type": "stream",
          "name": "stdout",
          "text": [
            "country\n",
            "Spain             0.96\n",
            "Sweden            1.23\n",
            "Portugal          1.29\n",
            "Germany           1.51\n",
            "Poland            1.56\n",
            "Finland           1.81\n",
            "Ireland           1.89\n",
            "Denmark           1.95\n",
            "United Kingdom    1.99\n",
            "France            2.21\n",
            "Austria           2.26\n",
            "Italy             2.42\n",
            "Netherlands       3.07\n",
            "Switzerland       4.04\n",
            "Name: prcp, dtype: Float64\n"
          ]
        }
      ]
    },
    {
      "cell_type": "code",
      "source": [
        "def label_rain(row):\n",
        "    avg_rain = avg_rain_top_countries.get(row['country_y'], None)\n",
        "    # Prüfe, ob avg_rain, tavg oder prcp fehlen, sonst None zurückgeben\n",
        "    if avg_rain is None or pd.isna(row['tavg']) or pd.isna(row['prcp']):\n",
        "        return None\n",
        "    return 'rainy' if row['prcp'] > avg_rain else 'not rainy'\n",
        "\n",
        "df['rain_label'] = df.apply(label_rain, axis=1)\n",
        "\n",
        "avg_order_rain = df.groupby(['country_y', 'rain_label'])['total_incvat_sek'].mean().unstack().round(2)\n",
        "\n",
        "avg_order_rain['result'] = avg_order_rain.apply(\n",
        "    lambda row: 'Higher on rainy days' if row.get('rainy', 0) > row.get('not rainy', 0) else 'Higher on less rainy days',\n",
        "    axis=1\n",
        ")\n",
        "\n",
        "avg_order_rain['avg_rain'] = avg_order_rain.index.map(avg_rain_top_countries)\n",
        "avg_order_rain = avg_order_rain.sort_values(by=['result', 'avg_rain'])\n",
        "\n",
        "print(avg_order_rain)\n"
      ],
      "metadata": {
        "colab": {
          "base_uri": "https://localhost:8080/"
        },
        "id": "tnF1nKhwTSME",
        "outputId": "0bd2195c-d9ba-4e86-cbf7-1314b1136469"
      },
      "execution_count": 122,
      "outputs": [
        {
          "output_type": "stream",
          "name": "stdout",
          "text": [
            "rain_label      not rainy    rainy                     result  avg_rain\n",
            "country_y                                                              \n",
            "Spain              873.62   767.42  Higher on less rainy days      0.96\n",
            "Germany            844.45   843.27  Higher on less rainy days      1.51\n",
            "Poland             765.63   757.35  Higher on less rainy days      1.56\n",
            "Denmark            783.64   777.20  Higher on less rainy days      1.95\n",
            "France             752.66   730.40  Higher on less rainy days      2.21\n",
            "Austria           1010.24  1005.91  Higher on less rainy days      2.26\n",
            "Italy              798.06   777.52  Higher on less rainy days      2.42\n",
            "Sweden             668.93   681.24       Higher on rainy days      1.23\n",
            "Portugal           844.86   846.50       Higher on rainy days      1.29\n",
            "Finland            829.91   831.49       Higher on rainy days      1.81\n",
            "Ireland            713.43   745.17       Higher on rainy days      1.89\n",
            "United Kingdom     785.20   812.61       Higher on rainy days      1.99\n",
            "Netherlands        702.45   706.93       Higher on rainy days      3.07\n",
            "Switzerland       1350.43  1614.50       Higher on rainy days      4.04\n"
          ]
        }
      ]
    },
    {
      "cell_type": "code",
      "source": [
        "'''df['rainy'] = df['prcp']> 1\n",
        "avg_df_prcp = df.groupby(['country_y', 'rainy'])['total_incvat_sek'].mean().unstack()'''\n"
      ],
      "metadata": {
        "id": "VFPGVqYkLq4t",
        "colab": {
          "base_uri": "https://localhost:8080/",
          "height": 35
        },
        "outputId": "0e741786-b39b-4d27-e868-f95cd5ee66d1"
      },
      "execution_count": 115,
      "outputs": [
        {
          "output_type": "execute_result",
          "data": {
            "text/plain": [
              "\"df['rainy'] = df['prcp']> 1\\navg_df_prcp = df.groupby(['country_y', 'rainy'])['total_incvat_sek'].mean().unstack()\""
            ],
            "application/vnd.google.colaboratory.intrinsic+json": {
              "type": "string"
            }
          },
          "metadata": {},
          "execution_count": 115
        }
      ]
    },
    {
      "cell_type": "markdown",
      "source": [
        "\n",
        "\n",
        "Order Value by AVG temp. of every single country (Higher when warm or cold)\n"
      ],
      "metadata": {
        "id": "qbu81TxCNOBk"
      }
    },
    {
      "cell_type": "code",
      "source": [
        "def label_temp(row):\n",
        "    avg_temp = avg_temp_top_countries.get(row['country_y'], None)\n",
        "    if avg_temp is None or pd.isna(row['tavg']):\n",
        "        return None\n",
        "    return 'warm' if row['tavg'] > avg_temp else 'cold'\n",
        "\n",
        "df['temp_label'] = df.apply(label_temp, axis=1)\n",
        "avg_order_temp = df.groupby(['country_y', 'temp_label'])['total_incvat_sek'].mean().unstack().round(2)\n",
        "\n",
        "avg_order_temp['result'] = avg_order_temp.apply(\n",
        "    lambda row: 'Higher on warm days' if row.get('warm', 0) > row.get('cold', 0) else 'Higher on cold days',\n",
        "    axis=1\n",
        ")\n",
        "\n",
        "avg_order_temp['avg_temp'] = avg_order_temp.index.map(avg_temp_top_countries)\n",
        "avg_order_temp = avg_order_temp.sort_values(by=['result', 'avg_temp'])\n",
        "\n",
        "print(avg_order_temp)"
      ],
      "metadata": {
        "colab": {
          "base_uri": "https://localhost:8080/"
        },
        "id": "Wqw8DGgRRrc_",
        "outputId": "120631e8-6ff3-43fb-d122-4ffc32da1195"
      },
      "execution_count": 120,
      "outputs": [
        {
          "output_type": "stream",
          "name": "stdout",
          "text": [
            "temp_label         cold     warm               result  avg_temp\n",
            "country_y                                                      \n",
            "Sweden           675.33   664.86  Higher on cold days      8.37\n",
            "Ireland          734.43   711.85  Higher on cold days     10.42\n",
            "Switzerland     1467.62  1385.10  Higher on cold days     10.57\n",
            "United Kingdom   798.30   787.14  Higher on cold days     11.38\n",
            "Poland           773.50   756.88  Higher on cold days     11.67\n",
            "Netherlands      712.27   699.16  Higher on cold days     11.97\n",
            "Germany          884.07   805.01  Higher on cold days     12.31\n",
            "France           753.36   741.77  Higher on cold days      13.2\n",
            "Austria         1071.51   949.74  Higher on cold days      14.2\n",
            "Finland          821.92   836.82  Higher on warm days      7.92\n",
            "Denmark          767.93   788.24  Higher on warm days     10.35\n",
            "Spain            829.93   903.23  Higher on warm days     15.66\n",
            "Italy            793.13   793.41  Higher on warm days      17.3\n",
            "Portugal         828.68   859.52  Higher on warm days      17.8\n"
          ]
        }
      ]
    },
    {
      "cell_type": "markdown",
      "source": [
        "\n",
        "\n",
        "Same but just by defintion of over and under 15 degree\n",
        "\n"
      ],
      "metadata": {
        "id": "Ok-EBmyFNbIO"
      }
    },
    {
      "cell_type": "code",
      "source": [
        "avg_order_15 = avg_order_temp.sort_values('avg_temp').reset_index()\n",
        "\n",
        "print(avg_order_15)"
      ],
      "metadata": {
        "colab": {
          "base_uri": "https://localhost:8080/"
        },
        "id": "0R7KdizIkZg9",
        "outputId": "4c50a495-9dd5-40c2-b46e-a1c2f57968e0"
      },
      "execution_count": 105,
      "outputs": [
        {
          "output_type": "stream",
          "name": "stdout",
          "text": [
            "temp_label       country_y     cold     warm               result  avg_temp\n",
            "0                  Finland   821.92   836.82  Higher on warm days      7.92\n",
            "1                   Sweden   675.33   664.86  Higher on cold days      8.37\n",
            "2                  Denmark   767.93   788.24  Higher on warm days     10.35\n",
            "3                  Ireland   734.43   711.85  Higher on cold days     10.42\n",
            "4              Switzerland  1467.62  1385.10  Higher on cold days     10.57\n",
            "5           United Kingdom   798.30   787.14  Higher on cold days     11.38\n",
            "6                   Poland   773.50   756.88  Higher on cold days     11.67\n",
            "7              Netherlands   712.27   699.16  Higher on cold days     11.97\n",
            "8                  Germany   884.07   805.01  Higher on cold days     12.31\n",
            "9                   France   753.36   741.77  Higher on cold days      13.2\n",
            "10                 Austria  1071.51   949.74  Higher on cold days      14.2\n",
            "11                   Spain   829.93   903.23  Higher on warm days     15.66\n",
            "12                   Italy   793.13   793.41  Higher on warm days      17.3\n",
            "13                Portugal   828.68   859.52  Higher on warm days      17.8\n"
          ]
        }
      ]
    },
    {
      "cell_type": "markdown",
      "source": [
        "Recommandation by Country\n"
      ],
      "metadata": {
        "id": "Qx-jOLx0ldch"
      }
    },
    {
      "cell_type": "code",
      "source": [
        "merged_df = avg_order_temp.merge(avg_order_rain, on='country_y', how='left')\n",
        "\n",
        "#print(merged_df[['result_x', 'avg_temp', 'result_y', 'avg_rain']])\n",
        "\n",
        "merged_df = merged_df.rename(columns={\n",
        "    'result_x': 'temp',\n",
        "    'result_y': 'rain'})\n",
        "print(merged_df[['avg_temp', 'temp',  'avg_rain','rain']])\n"
      ],
      "metadata": {
        "colab": {
          "base_uri": "https://localhost:8080/"
        },
        "id": "DPiJkEr9YLvH",
        "outputId": "47c1cf5d-3729-4e00-c030-d7c5fd6b0d44"
      },
      "execution_count": 127,
      "outputs": [
        {
          "output_type": "stream",
          "name": "stdout",
          "text": [
            "                avg_temp                 temp  avg_rain  \\\n",
            "country_y                                                 \n",
            "Sweden              8.37  Higher on cold days      1.23   \n",
            "Ireland            10.42  Higher on cold days      1.89   \n",
            "Switzerland        10.57  Higher on cold days      4.04   \n",
            "United Kingdom     11.38  Higher on cold days      1.99   \n",
            "Poland             11.67  Higher on cold days      1.56   \n",
            "Netherlands        11.97  Higher on cold days      3.07   \n",
            "Germany            12.31  Higher on cold days      1.51   \n",
            "France              13.2  Higher on cold days      2.21   \n",
            "Austria             14.2  Higher on cold days      2.26   \n",
            "Finland             7.92  Higher on warm days      1.81   \n",
            "Denmark            10.35  Higher on warm days      1.95   \n",
            "Spain              15.66  Higher on warm days      0.96   \n",
            "Italy               17.3  Higher on warm days      2.42   \n",
            "Portugal            17.8  Higher on warm days      1.29   \n",
            "\n",
            "                                     rain  \n",
            "country_y                                  \n",
            "Sweden               Higher on rainy days  \n",
            "Ireland              Higher on rainy days  \n",
            "Switzerland          Higher on rainy days  \n",
            "United Kingdom       Higher on rainy days  \n",
            "Poland          Higher on less rainy days  \n",
            "Netherlands          Higher on rainy days  \n",
            "Germany         Higher on less rainy days  \n",
            "France          Higher on less rainy days  \n",
            "Austria         Higher on less rainy days  \n",
            "Finland              Higher on rainy days  \n",
            "Denmark         Higher on less rainy days  \n",
            "Spain           Higher on less rainy days  \n",
            "Italy           Higher on less rainy days  \n",
            "Portugal             Higher on rainy days  \n"
          ]
        }
      ]
    },
    {
      "cell_type": "code",
      "source": [
        "for idx, row in merged_df.iterrows():\n",
        "    country = idx\n",
        "    temp_label = row['temp']\n",
        "    avg_temp = row['avg_temp']\n",
        "    rain_label = row['rain']\n",
        "    avg_rain = row['avg_rain']\n",
        "\n",
        "    if temp_label == 'Higher on cold days':\n",
        "        temp_text = 'If Temp is below'\n",
        "    else:\n",
        "        temp_text = 'If Temp is above'\n",
        "\n",
        "    if rain_label == 'Higher on less rainy days':\n",
        "        rain_text = 'and less rain then'\n",
        "    else:\n",
        "        rain_text = 'and more rain then'\n",
        "\n",
        "    print(f\"{country}: {temp_text} {avg_temp} C {rain_text} {avg_rain} mm, chances a higher for more revenue! \\n\" )\n",
        "\n"
      ],
      "metadata": {
        "colab": {
          "base_uri": "https://localhost:8080/"
        },
        "id": "4brWM3CcppnF",
        "outputId": "5f1b2231-3cc5-4ec5-cac4-b20bcea349ac"
      },
      "execution_count": 129,
      "outputs": [
        {
          "output_type": "stream",
          "name": "stdout",
          "text": [
            "Sweden: If Temp is below 8.37 C and more rain then 1.23 mm, chances a higher for more revenue! \n",
            "\n",
            "Ireland: If Temp is below 10.42 C and more rain then 1.89 mm, chances a higher for more revenue! \n",
            "\n",
            "Switzerland: If Temp is below 10.57 C and more rain then 4.04 mm, chances a higher for more revenue! \n",
            "\n",
            "United Kingdom: If Temp is below 11.38 C and more rain then 1.99 mm, chances a higher for more revenue! \n",
            "\n",
            "Poland: If Temp is below 11.67 C and less rain then 1.56 mm, chances a higher for more revenue! \n",
            "\n",
            "Netherlands: If Temp is below 11.97 C and more rain then 3.07 mm, chances a higher for more revenue! \n",
            "\n",
            "Germany: If Temp is below 12.31 C and less rain then 1.51 mm, chances a higher for more revenue! \n",
            "\n",
            "France: If Temp is below 13.2 C and less rain then 2.21 mm, chances a higher for more revenue! \n",
            "\n",
            "Austria: If Temp is below 14.2 C and less rain then 2.26 mm, chances a higher for more revenue! \n",
            "\n",
            "Finland: If Temp is above 7.92 C and more rain then 1.81 mm, chances a higher for more revenue! \n",
            "\n",
            "Denmark: If Temp is above 10.35 C and less rain then 1.95 mm, chances a higher for more revenue! \n",
            "\n",
            "Spain: If Temp is above 15.66 C and less rain then 0.96 mm, chances a higher for more revenue! \n",
            "\n",
            "Italy: If Temp is above 17.3 C and less rain then 2.42 mm, chances a higher for more revenue! \n",
            "\n",
            "Portugal: If Temp is above 17.8 C and more rain then 1.29 mm, chances a higher for more revenue! \n",
            "\n"
          ]
        }
      ]
    },
    {
      "cell_type": "code",
      "source": [
        "\n",
        "plt.figure(figsize=(12,8))\n",
        "\n",
        "palette_temp = {'Higher on warm days':'orange', 'Higher on cold days':'blue'}\n",
        "markers_rain = {'Higher on rainy days':'o', 'Higher on less rainy days':'s'}\n",
        "\n",
        "for idx, row in merged_df.iterrows():\n",
        "    plt.scatter(row['avg_temp'], row['avg_rain'],\n",
        "                color=palette_temp.get(row['temp'], 'gray'),\n",
        "                marker=markers_rain.get(row['rain'], 'o'),\n",
        "                s=150, alpha=0.7)\n",
        "    plt.text(row['avg_temp'], row['avg_rain'], idx, fontsize=9, ha='right')\n",
        "\n",
        "plt.xlabel('Average Temperature (C)')\n",
        "plt.ylabel('Average Rainfall (mm)')\n",
        "plt.title('Revenue Behavior by Temperature and Rain Labels per Country')\n",
        "plt.grid(True)\n",
        "plt.show()"
      ],
      "metadata": {
        "colab": {
          "base_uri": "https://localhost:8080/",
          "height": 718
        },
        "id": "8HGaxnUmrDmu",
        "outputId": "9608af83-eec0-41f7-c311-75ebe200323d"
      },
      "execution_count": 130,
      "outputs": [
        {
          "output_type": "display_data",
          "data": {
            "text/plain": [
              "<Figure size 1200x800 with 1 Axes>"
            ],
            "image/png": "[encoded data removed]"
          },
          "metadata": {}
        }
      ]
    }
  ]
}